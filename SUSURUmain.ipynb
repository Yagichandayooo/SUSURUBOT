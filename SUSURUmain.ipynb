{
 "cells": [
  {
   "cell_type": "code",
   "execution_count": 1,
   "id": "aerial-fever",
   "metadata": {},
   "outputs": [],
   "source": [
    "import re\n",
    "import numpy as np\n",
    "import datetime\n",
    "import time\n",
    "\n",
    "from apiclient.discovery import build\n",
    "\n",
    "from tqdm import tqdm_notebook as tqdm\n",
    "from ipywidgets import IntProgress"
   ]
  },
  {
   "cell_type": "code",
   "execution_count": 2,
   "id": "characteristic-blast",
   "metadata": {},
   "outputs": [],
   "source": [
    "API_KEY='ここにAPIKEYを入れる'"
   ]
  },
  {
   "cell_type": "code",
   "execution_count": 3,
   "id": "binding-stereo",
   "metadata": {},
   "outputs": [],
   "source": [
    "id_ = 'UCXcjvt8cOfwtcqaMeE7-hqA' #SUSURUTVID"
   ]
  },
  {
   "cell_type": "code",
   "execution_count": 4,
   "id": "painted-original",
   "metadata": {},
   "outputs": [],
   "source": [
    "def YoutubeChannelDetails(id_, API_KEY):\n",
    "    API_SERVICE_NAME = \"youtube\"\n",
    "    API_VERSION = \"v3\"\n",
    "\n",
    "    youtube = build(API_SERVICE_NAME, API_VERSION, developerKey=API_KEY)\n",
    "    search_response = youtube.channels().list(\n",
    "    part= 'snippet,contentDetails',\n",
    "    id=id_,\n",
    "    ).execute()\n",
    "    \n",
    "    return search_response['items'][0]"
   ]
  },
  {
   "cell_type": "code",
   "execution_count": 5,
   "id": "neural-defensive",
   "metadata": {},
   "outputs": [],
   "source": [
    "ChannelDetails = YoutubeChannelDetails(id_,API_KEY)"
   ]
  },
  {
   "cell_type": "code",
   "execution_count": 6,
   "id": "hispanic-marsh",
   "metadata": {},
   "outputs": [],
   "source": [
    "ChannelTitle = '-'.join(ChannelDetails['snippet']['title'].split(' '))\n",
    "uploads = ChannelDetails['contentDetails']['relatedPlaylists']['uploads']"
   ]
  },
  {
   "cell_type": "code",
   "execution_count": 7,
   "id": "nutritional-schedule",
   "metadata": {},
   "outputs": [],
   "source": [
    "\n",
    "def YoutubePlaylistContents(id_, API_KEY):\n",
    "    \n",
    "    responses = []\n",
    "    nextPageToken = 'start'\n",
    "    counts = 0\n",
    "\n",
    "    while(nextPageToken is not None):\n",
    "        \n",
    "        API_SERVICE_NAME = \"youtube\"\n",
    "        API_VERSION = \"v3\"\n",
    "\n",
    "        youtube = build(API_SERVICE_NAME, API_VERSION, developerKey=API_KEY)\n",
    "\n",
    "        if(nextPageToken == 'start'):\n",
    "            search_response = youtube.playlistItems().list(\n",
    "            part= 'snippet',\n",
    "            playlistId=id_,\n",
    "            maxResults = 50,\n",
    "            ).execute()\n",
    "            nextPageToken = search_response['nextPageToken']\n",
    "        else:\n",
    "            search_response = youtube.playlistItems().list(\n",
    "            part= 'snippet',\n",
    "            playlistId=id_,\n",
    "            maxResults = 50,\n",
    "            pageToken = nextPageToken\n",
    "            ).execute()\n",
    "            try:\n",
    "                nextPageToken = search_response['nextPageToken']\n",
    "            except:\n",
    "                nextPageToken = None\n",
    "        \n",
    "        responses.extend(search_response['items'])\n",
    "        counts += len(search_response['items'])\n",
    "    \n",
    "    print('load '+str(counts)+' videos...')\n",
    "    \n",
    "    return responses"
   ]
  },
  {
   "cell_type": "code",
   "execution_count": 8,
   "id": "nearby-charge",
   "metadata": {},
   "outputs": [
    {
     "name": "stdout",
     "output_type": "stream",
     "text": [
      "load 2116 videos...\n"
     ]
    }
   ],
   "source": [
    "total_contents = YoutubePlaylistContents(uploads,API_KEY)"
   ]
  },
  {
   "cell_type": "code",
   "execution_count": 9,
   "id": "ordinary-address",
   "metadata": {},
   "outputs": [],
   "source": [
    "dic_total = []\n",
    "for t in total_contents:\n",
    "    \n",
    "    date_list = t['snippet']['publishedAt'].split('T')\n",
    "    year, month, date = date_list[0].split('-')\n",
    "    hour, minute, sec = date_list[1].split(':')\n",
    "    sec = sec[:2]\n",
    "    \n",
    "    dic = {'title':t['snippet']['title'], \n",
    "           'Id':t['snippet']['resourceId']['videoId'],\n",
    "           'description':t['snippet']['description']}\n",
    "    \n",
    "    dic_total.append(dic)"
   ]
  },
  {
   "cell_type": "code",
   "execution_count": 10,
   "id": "controlling-strain",
   "metadata": {},
   "outputs": [],
   "source": [
    "def ConvertDuration(string):\n",
    "    string = string.replace('PT', '') \n",
    "    strings = re.split('\\D',string)[:-1]\n",
    "    if(len(strings) == 3):\n",
    "        delta = datetime.timedelta(hours=int(strings[0]),\n",
    "                                   minutes=int(strings[1]),\n",
    "                                   seconds=int(strings[2]))\n",
    "    elif(len(strings) == 2):\n",
    "        delta = datetime.timedelta(minutes=int(strings[0]),\n",
    "                                   seconds=int(strings[1]))\n",
    "    elif(len(strings) == 1):\n",
    "        delta =datetime.timedelta(seconds=int(strings[0]))\n",
    "    else:\n",
    "        delta = datetime.timedelta(seconds=0)\n",
    "    \n",
    "    return delta.seconds\n",
    "\n",
    "def YoutubeVideoDetails(id_, API_KEY):\n",
    "    API_SERVICE_NAME = \"youtube\"\n",
    "    API_VERSION = \"v3\"\n",
    "\n",
    "    youtube = build(API_SERVICE_NAME, API_VERSION, developerKey=API_KEY)\n",
    "\n",
    "    search_response = youtube.videos().list(\n",
    "    part= 'statistics,contentDetails',\n",
    "    id=id_,\n",
    "    ).execute()\n",
    "    \n",
    "    hoge = search_response['items'][0]\n",
    "    details = {'viewCount':int(hoge['statistics']['viewCount']),\n",
    "               'likeCount':int(hoge['statistics']['likeCount']),\n",
    "               'dislikeCount':int(hoge['statistics']['dislikeCount']),\n",
    "               'commentCount':int(hoge['statistics']['commentCount']),\n",
    "               'duration':ConvertDuration(str(hoge['contentDetails']['duration']))}\n",
    "    \n",
    "    return details"
   ]
  },
  {
   "cell_type": "code",
   "execution_count": 11,
   "id": "dietary-water",
   "metadata": {},
   "outputs": [
    {
     "name": "stderr",
     "output_type": "stream",
     "text": [
      "C:\\ProgramData\\Anaconda3\\lib\\site-packages\\ipykernel_launcher.py:1: TqdmDeprecationWarning: This function will be removed in tqdm==5.0.0\n",
      "Please use `tqdm.notebook.tqdm` instead of `tqdm.tqdm_notebook`\n",
      "  \"\"\"Entry point for launching an IPython kernel.\n"
     ]
    },
    {
     "data": {
      "application/vnd.jupyter.widget-view+json": {
       "model_id": "d87c0ebd1a1047cc9233e56919e84493",
       "version_major": 2,
       "version_minor": 0
      },
      "text/plain": [
       "  0%|          | 0/2116 [00:00<?, ?it/s]"
      ]
     },
     "metadata": {},
     "output_type": "display_data"
    },
    {
     "ename": "KeyError",
     "evalue": "'commentCount'",
     "output_type": "error",
     "traceback": [
      "\u001b[1;31m---------------------------------------------------------------------------\u001b[0m",
      "\u001b[1;31mKeyError\u001b[0m                                  Traceback (most recent call last)",
      "\u001b[1;32m<ipython-input-11-c67c87f64ece>\u001b[0m in \u001b[0;36m<module>\u001b[1;34m\u001b[0m\n\u001b[0;32m      1\u001b[0m \u001b[1;32mfor\u001b[0m \u001b[0mn\u001b[0m\u001b[1;33m,\u001b[0m\u001b[0md\u001b[0m \u001b[1;32min\u001b[0m \u001b[0menumerate\u001b[0m\u001b[1;33m(\u001b[0m\u001b[0mtqdm\u001b[0m\u001b[1;33m(\u001b[0m\u001b[0mnp\u001b[0m\u001b[1;33m.\u001b[0m\u001b[0marray\u001b[0m\u001b[1;33m(\u001b[0m\u001b[1;33m[\u001b[0m\u001b[0mi\u001b[0m\u001b[1;33m[\u001b[0m\u001b[1;34m'Id'\u001b[0m\u001b[1;33m]\u001b[0m \u001b[1;32mfor\u001b[0m \u001b[0mi\u001b[0m \u001b[1;32min\u001b[0m \u001b[0mdic_total\u001b[0m\u001b[1;33m]\u001b[0m\u001b[1;33m)\u001b[0m\u001b[1;33m)\u001b[0m\u001b[1;33m)\u001b[0m\u001b[1;33m:\u001b[0m\u001b[1;33m\u001b[0m\u001b[1;33m\u001b[0m\u001b[0m\n\u001b[1;32m----> 2\u001b[1;33m     \u001b[0mdetails\u001b[0m \u001b[1;33m=\u001b[0m \u001b[0mYoutubeVideoDetails\u001b[0m\u001b[1;33m(\u001b[0m\u001b[0md\u001b[0m\u001b[1;33m,\u001b[0m\u001b[0mAPI_KEY\u001b[0m\u001b[1;33m)\u001b[0m\u001b[1;33m\u001b[0m\u001b[1;33m\u001b[0m\u001b[0m\n\u001b[0m\u001b[0;32m      3\u001b[0m     \u001b[0mdic_total\u001b[0m\u001b[1;33m[\u001b[0m\u001b[0mn\u001b[0m\u001b[1;33m]\u001b[0m\u001b[1;33m.\u001b[0m\u001b[0mupdate\u001b[0m\u001b[1;33m(\u001b[0m\u001b[0mdetails\u001b[0m\u001b[1;33m)\u001b[0m\u001b[1;33m\u001b[0m\u001b[1;33m\u001b[0m\u001b[0m\n\u001b[0;32m      4\u001b[0m \u001b[0mdic_total\u001b[0m \u001b[1;33m=\u001b[0m \u001b[0mnp\u001b[0m\u001b[1;33m.\u001b[0m\u001b[0marray\u001b[0m\u001b[1;33m(\u001b[0m\u001b[0mdic_total\u001b[0m\u001b[1;33m)\u001b[0m\u001b[1;33m\u001b[0m\u001b[1;33m\u001b[0m\u001b[0m\n",
      "\u001b[1;32m<ipython-input-10-9e17203df595>\u001b[0m in \u001b[0;36mYoutubeVideoDetails\u001b[1;34m(id_, API_KEY)\u001b[0m\n\u001b[0;32m     31\u001b[0m                \u001b[1;34m'likeCount'\u001b[0m\u001b[1;33m:\u001b[0m\u001b[0mint\u001b[0m\u001b[1;33m(\u001b[0m\u001b[0mhoge\u001b[0m\u001b[1;33m[\u001b[0m\u001b[1;34m'statistics'\u001b[0m\u001b[1;33m]\u001b[0m\u001b[1;33m[\u001b[0m\u001b[1;34m'likeCount'\u001b[0m\u001b[1;33m]\u001b[0m\u001b[1;33m)\u001b[0m\u001b[1;33m,\u001b[0m\u001b[1;33m\u001b[0m\u001b[1;33m\u001b[0m\u001b[0m\n\u001b[0;32m     32\u001b[0m                \u001b[1;34m'dislikeCount'\u001b[0m\u001b[1;33m:\u001b[0m\u001b[0mint\u001b[0m\u001b[1;33m(\u001b[0m\u001b[0mhoge\u001b[0m\u001b[1;33m[\u001b[0m\u001b[1;34m'statistics'\u001b[0m\u001b[1;33m]\u001b[0m\u001b[1;33m[\u001b[0m\u001b[1;34m'dislikeCount'\u001b[0m\u001b[1;33m]\u001b[0m\u001b[1;33m)\u001b[0m\u001b[1;33m,\u001b[0m\u001b[1;33m\u001b[0m\u001b[1;33m\u001b[0m\u001b[0m\n\u001b[1;32m---> 33\u001b[1;33m                \u001b[1;34m'commentCount'\u001b[0m\u001b[1;33m:\u001b[0m\u001b[0mint\u001b[0m\u001b[1;33m(\u001b[0m\u001b[0mhoge\u001b[0m\u001b[1;33m[\u001b[0m\u001b[1;34m'statistics'\u001b[0m\u001b[1;33m]\u001b[0m\u001b[1;33m[\u001b[0m\u001b[1;34m'commentCount'\u001b[0m\u001b[1;33m]\u001b[0m\u001b[1;33m)\u001b[0m\u001b[1;33m,\u001b[0m\u001b[1;33m\u001b[0m\u001b[1;33m\u001b[0m\u001b[0m\n\u001b[0m\u001b[0;32m     34\u001b[0m                'duration':ConvertDuration(str(hoge['contentDetails']['duration']))}\n\u001b[0;32m     35\u001b[0m \u001b[1;33m\u001b[0m\u001b[0m\n",
      "\u001b[1;31mKeyError\u001b[0m: 'commentCount'"
     ]
    }
   ],
   "source": [
    "for n,d in enumerate(tqdm(np.array([i['Id'] for i in dic_total]))):\n",
    "    details = YoutubeVideoDetails(d,API_KEY)\n",
    "    dic_total[n].update(details)\n",
    "dic_total = np.array(dic_total)"
   ]
  },
  {
   "cell_type": "code",
   "execution_count": 13,
   "id": "adjacent-butterfly",
   "metadata": {},
   "outputs": [
    {
     "data": {
      "text/plain": [
       "{'title': 'SUSURU TV.第0回放送\\u3000衝撃の展開！！！',\n",
       " 'Id': '-d8K7yNM0wU',\n",
       " 'description': 'ラーメンyoutuberSUSURUによる\\n「毎日ラーメン健康生活」をお届け。\\n毎日ラーメンをすすります。\\n\\nチャンネル登録\\nhttps://www.youtube.com/channel/UCXcjvt8cOfwtcqaMeE7-hqA?sub_confirmation=1\\n\\ntwitter\\nhttps://twitter.com/susuru_tv\\nFacebookページ\\nhttps://www.facebook.com/Susuru-1636122563334708/'}"
      ]
     },
     "execution_count": 13,
     "metadata": {},
     "output_type": "execute_result"
    }
   ],
   "source": [
    "dic_total[2115]"
   ]
  },
  {
   "cell_type": "code",
   "execution_count": 14,
   "id": "geographic-distribution",
   "metadata": {},
   "outputs": [
    {
     "data": {
      "text/plain": [
       "{'title': '起きてすぐ家系ラーメンをすすりたい日があったんですよ。をすする 麺家ばく【飯テロ】SUSURU TV.第1935回',\n",
       " 'date': datetime.datetime(2021, 2, 21, 9, 30, 2),\n",
       " 'Id': 'YMnQ3eXwxhQ',\n",
       " 'description': '★SUSURU TV.の公式グッズサイトができました！★\\nhttps://susurutv.stores.jp/\\n\\n■お仕事の依頼は■\\ninfo@susurulab.co.jp\\n企業様のお問い合わせは上記よりお願いいたします。\\n\\n▼SUSURUのサブチャンネルもよろしく！▼\\nhttps://www.youtube.com/channel/UCVdjYnmDsyiUcpcryI-k6ZA\\n\\nご視聴ありがとうございます。\\nラーメンを毎日すする「毎日ラーメン健康生活」を実施中！\\nチャンネル登録もよろしくお願いします！ \\n\\n【本日のラーメン情報】\\n麺家ばく\\n東京都中野区東中野4-4-3 山内ビル 1F\\nhttps://tabelog.com/tokyo/A1319/A131901/13049677/\\n\\n■twitter\\nhttps://twitter.com/susuru_tv\\n\\n■instagram\\nhttps://www.instagram.com/susuru_tv/\\n\\n\\n★メンバーシップも始めました★\\nhttps://www.youtube.com/channel/UCXcjvt8cOfwtcqaMeE7-hqA/join\\n\\n★SUSURU TV.新曲配信中！★\\nhttps://linkco.re/u5VA13XM\\n\\n■LINEスタンプ\\nhttps://store.line.me/stickershop/product/1405507/ja\\n\\nもしくはスタンプショップで「susuru」と検索してください！\\n\\n■SUSURUのグッズ\\nhttps://p-town.dmm.com/entertainers/23\\n※パーカーもVV限定で発売しています！\\n\\n◇1000万再生ごとの感謝記念MV◇\\nhttps://www.youtube.com/playlist?list=PLRiGv_zZZiw-0AFcLFCC_r83Sr4NUXTCl\\n\\n\\n◆ファンレター等の送り先はこちら\\n〒164-0001\\n東京都中野区中野3-42-2\\nSUSURU宛\\u3000まで！\\n※ここにSUSURUは住んでいません。近隣の方のご迷惑になりますので押しかけたりはご遠慮ください。\\n\\n\\n#ラーメン #麺家ばく #UberEats #毎日ラーメン生活',\n",
       " 'viewCount': 104063,\n",
       " 'likeCount': 1287,\n",
       " 'dislikeCount': 84,\n",
       " 'commentCount': 173,\n",
       " 'duration': 557}"
      ]
     },
     "execution_count": 14,
     "metadata": {},
     "output_type": "execute_result"
    }
   ],
   "source": [
    "dic_total[1]"
   ]
  },
  {
   "cell_type": "code",
   "execution_count": 14,
   "id": "weighted-honolulu",
   "metadata": {},
   "outputs": [],
   "source": [
    "import pickle"
   ]
  },
  {
   "cell_type": "code",
   "execution_count": 15,
   "id": "ahead-slovakia",
   "metadata": {},
   "outputs": [],
   "source": [
    "with open (\"NEWSUSURU.pickle\",mode=\"wb\")as f:\n",
    "    pickle.dump(dic_total,f)"
   ]
  },
  {
   "cell_type": "code",
   "execution_count": null,
   "id": "successful-skirt",
   "metadata": {},
   "outputs": [],
   "source": []
  }
 ],
 "metadata": {
  "kernelspec": {
   "display_name": "Python 3",
   "language": "python",
   "name": "python3"
  },
  "language_info": {
   "codemirror_mode": {
    "name": "ipython",
    "version": 3
   },
   "file_extension": ".py",
   "mimetype": "text/x-python",
   "name": "python",
   "nbconvert_exporter": "python",
   "pygments_lexer": "ipython3",
   "version": "3.7.9"
  }
 },
 "nbformat": 4,
 "nbformat_minor": 5
}
